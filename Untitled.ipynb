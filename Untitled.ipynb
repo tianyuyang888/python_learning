{
 "cells": [
  {
   "cell_type": "code",
   "execution_count": 5,
   "metadata": {},
   "outputs": [
    {
     "name": "stdout",
     "output_type": "stream",
     "text": [
      "1\n"
     ]
    }
   ],
   "source": [
    "a = 1\n",
    "def change(a):\n",
    "    a = 2\n",
    "change(a)\n",
    "print(a)"
   ]
  },
  {
   "cell_type": "code",
   "execution_count": 13,
   "metadata": {},
   "outputs": [
    {
     "name": "stdout",
     "output_type": "stream",
     "text": [
      "l\n"
     ]
    }
   ],
   "source": [
    "import random as rd\n",
    "print(rd.choice(['u', 'd', 'l', 'r']))"
   ]
  },
  {
   "cell_type": "code",
   "execution_count": 12,
   "metadata": {},
   "outputs": [
    {
     "name": "stdout",
     "output_type": "stream",
     "text": [
      "[1, 2, 3, 4, 5, 6]\n"
     ]
    }
   ],
   "source": [
    "# 冒泡排序\n",
    "a = [3, 2, 1, 4, 5, 6]\n",
    "for i in range(len(a) - 1):\n",
    "    for j in range(len(a) - 1 - i):\n",
    "        if a[j] > a[j+1]:\n",
    "            a[j],a[j+1] = a[j+1],a[j]\n",
    "print(a)"
   ]
  },
  {
   "cell_type": "code",
   "execution_count": 35,
   "metadata": {},
   "outputs": [
    {
     "name": "stdout",
     "output_type": "stream",
     "text": [
      "[6, 5, 4, 3, 2, 1]\n"
     ]
    }
   ],
   "source": [
    "# 选择排序\n",
    "a = [3, 2, 1, 4, 5, 6]\n",
    "for i in range(len(a) - 1):\n",
    "    for j in range(i,len(a) - 1):\n",
    "        if a[i] < a[j + 1]:\n",
    "            a[i],a[j + 1] = a[j+1],a[i]\n",
    "print(a)"
   ]
  },
  {
   "cell_type": "code",
   "execution_count": 36,
   "metadata": {},
   "outputs": [
    {
     "name": "stdout",
     "output_type": "stream",
     "text": [
      "0\n"
     ]
    }
   ],
   "source": [
    "a = [(0, 8)]\n",
    "x = a[0][0]\n",
    "print(x)"
   ]
  },
  {
   "cell_type": "code",
   "execution_count": 38,
   "metadata": {},
   "outputs": [
    {
     "name": "stdout",
     "output_type": "stream",
     "text": [
      "False\n"
     ]
    }
   ],
   "source": [
    "a = [(1,1),(2,2)]\n",
    "b = (1,1)\n",
    "print(b not in a)"
   ]
  },
  {
   "cell_type": "code",
   "execution_count": 65,
   "metadata": {},
   "outputs": [
    {
     "name": "stdout",
     "output_type": "stream",
     "text": [
      "(2, 7) 17\n",
      "(1, 6) 15\n",
      "[(1, 6), (2, 7)]\n"
     ]
    }
   ],
   "source": [
    "def f(loc, start ,end):\n",
    "    print(loc,(abs(loc[0] - start[0]) + abs(loc[1] - start[1])+ abs(loc[1] - end[1])+ abs(loc[1] - end[1])))\n",
    "    return (abs(loc[0] - start[0]) + abs(loc[1] - start[1])+ abs(loc[1] - end[1])+ abs(loc[1] - end[1]))\n",
    "def sort(open_list, start, end):\n",
    "    if len(open_list) <= 1:\n",
    "        return\n",
    "    for i in range(len(open_list) - 1):\n",
    "        for j in range(len(open_list) - 1 - i):\n",
    "#             print(f(open_list[j], start, end))\n",
    "#             print(f(open_list[j+1], start, end))\n",
    "            if f(open_list[j], start, end) > f(open_list[j+1], start, end):\n",
    "                open_list[j],open_list[j+1] = open_list[j+1],open_list[j]\n",
    "open_list = [(2,7),(1,6)]\n",
    "x = open_list[0][0]\n",
    "y = open_list[0][1]\n",
    "sort(open_list, (0,8) ,(0,0))\n",
    "# open_list.remove((x,y))\n",
    "print(open_list)"
   ]
  },
  {
   "cell_type": "code",
   "execution_count": 88,
   "metadata": {},
   "outputs": [
    {
     "name": "stdout",
     "output_type": "stream",
     "text": [
      "[(0, 8), (1, 8), (1, 7), (2, 7), (2, 6), (2, 5), (1, 5), (0, 5), (1, 4), (1, 3), (1, 2), (1, 1), (1, 0), (0, 0)]\n"
     ]
    }
   ],
   "source": [
    "##TODO 13 实现你的算法\n",
    "def move_robot(loc, act):\n",
    "    x = loc[0]\n",
    "    y = loc[1]\n",
    "#     if is_move_valid(env_data, loc, act) == False:\n",
    "#         return loc\n",
    "    if act == 'u':\n",
    "        x-=1\n",
    "    elif act == 'd':\n",
    "        x+=1\n",
    "    elif act == 'l':\n",
    "        y-=1\n",
    "    elif act == 'r':\n",
    "        y+=1\n",
    "    else:\n",
    "        return loc\n",
    "    return (x,y)\n",
    "def valid_actions(env_data, loc):\n",
    "    validacts = []\n",
    "    act = ['u', 'd', 'l', 'r']\n",
    "    for i in act:\n",
    "        if(is_move_valid(env_data, loc, i)):\n",
    "            validacts.append(i)\n",
    "    return validacts\n",
    "def is_move_valid(env_data, loc, act):\n",
    "    \"\"\"\n",
    "    Judge wether the robot can take action act\n",
    "    at location loc.\n",
    "    \n",
    "    Keyword arguments:\n",
    "    env -- list, the environment data\n",
    "    loc -- tuple, robots current location\n",
    "    act -- string, robots meant action\n",
    "    \"\"\"\n",
    "    #TODO 9\n",
    "    x = loc[0]\n",
    "    y = loc[1]\n",
    "    if act == 'u': \n",
    "        x-=1\n",
    "        return x >= 0 and env_data[x][y] != 2\n",
    "    elif act == 'd':\n",
    "        x+=1\n",
    "        return x < len(env_data) and env_data[x][y] != 2\n",
    "    elif act== 'l': \n",
    "        y-=1\n",
    "        return y >= 0 and env_data[x][y] != 2\n",
    "    elif act == 'r':\n",
    "        y+=1\n",
    "        return y < len(env_data[0]) and env_data[x][y] != 2\n",
    "    else:\n",
    "        return false\n",
    "def f(loc, start ,end):\n",
    "    return (abs(loc[0] - start[0]) + abs(loc[1] - start[1])+ abs(loc[1] - end[1])+ abs(loc[1] - end[1]))\n",
    "def sort(open_list, start, end):\n",
    "    if len(open_list) <= 1:\n",
    "        return\n",
    "    for i in range(len(open_list) - 1):\n",
    "        for j in range(len(open_list) - 1 - i):\n",
    "            if f(open_list[j], start, end) > f(open_list[j+1], start, end):\n",
    "                open_list[j],open_list[j+1] = open_list[j+1],open_list[j]\n",
    "    \n",
    "def go_to_destination(env_data, start, end):\n",
    "    #使用A*算法实现，f(n) = g(n) + h(n)\n",
    "    #定义两个列表open_list和close_list\n",
    "    #把当前点的所有可到达的点放入open_list中，把open_list根据f(n)的值有小到大排序\n",
    "    #把open_list中的第一个点当做当前点，把当前点放入close_list中，循环直至到终点\n",
    "    #定义一个act_list，记录移动方向\n",
    "    open_list = []\n",
    "    close_list = []\n",
    "    act_list = []\n",
    "    x = 0\n",
    "    x = start[0]\n",
    "    y = start[1]\n",
    "    while(True):\n",
    "        validacts = valid_actions(env_data, (x,y))\n",
    "#         print('close_list',close_list)\n",
    "#         print('open_list',open_list)\n",
    "#         print('当前坐标',(x,y))\n",
    "        for act in validacts:\n",
    "            new_loc = move_robot((x,y),act)\n",
    "#             print('可移动的坐标',new_loc)\n",
    "#             print(new_loc not in close_list)\n",
    "            if new_loc not in close_list:\n",
    "                open_list.append(new_loc)\n",
    "        close_list.append((x,y))\n",
    "        sort(open_list, start, end)\n",
    "        if (x,y) == end:\n",
    "            print(close_list)\n",
    "            break\n",
    "        x = open_list[0][0]\n",
    "        y = open_list[0][1]\n",
    "        open_list.remove((x,y))\n",
    "       \n",
    "        \n",
    "env_data = [[3, 2, 2, 2, 2, 0, 2, 2, 1],\n",
    "            [0, 0, 0, 0, 0, 0, 2, 0, 0],\n",
    "            [2, 0, 0, 2, 2, 0, 0, 0, 2],\n",
    "            [2, 2, 0, 0, 2, 0, 0, 2, 2],\n",
    "            [2, 2, 2, 0, 0, 0, 2, 2, 2]]\n",
    "go_to_destination(env_data, (0,8), (0,0))"
   ]
  },
  {
   "cell_type": "code",
   "execution_count": null,
   "metadata": {},
   "outputs": [],
   "source": []
  },
  {
   "cell_type": "code",
   "execution_count": null,
   "metadata": {},
   "outputs": [],
   "source": []
  }
 ],
 "metadata": {
  "kernelspec": {
   "display_name": "Python 3",
   "language": "python",
   "name": "python3"
  },
  "language_info": {
   "codemirror_mode": {
    "name": "ipython",
    "version": 3
   },
   "file_extension": ".py",
   "mimetype": "text/x-python",
   "name": "python",
   "nbconvert_exporter": "python",
   "pygments_lexer": "ipython3",
   "version": "3.7.1"
  }
 },
 "nbformat": 4,
 "nbformat_minor": 2
}
